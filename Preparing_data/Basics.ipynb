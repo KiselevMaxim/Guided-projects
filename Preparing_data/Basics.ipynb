{
 "cells": [
  {
   "cell_type": "code",
   "execution_count": 65,
   "metadata": {
    "collapsed": false
   },
   "outputs": [],
   "source": [
    "import pandas\n",
    "df = pandas.read_csv('academy_awards.csv', encoding='ISO-8859-1')"
   ]
  },
  {
   "cell_type": "code",
   "execution_count": 66,
   "metadata": {
    "collapsed": false
   },
   "outputs": [
    {
     "data": {
      "text/html": [
       "<div>\n",
       "<table border=\"1\" class=\"dataframe\">\n",
       "  <thead>\n",
       "    <tr style=\"text-align: right;\">\n",
       "      <th></th>\n",
       "      <th>Year</th>\n",
       "      <th>Category</th>\n",
       "      <th>Nominee</th>\n",
       "      <th>Additional Info</th>\n",
       "      <th>Won?</th>\n",
       "      <th>Unnamed: 5</th>\n",
       "      <th>Unnamed: 6</th>\n",
       "      <th>Unnamed: 7</th>\n",
       "      <th>Unnamed: 8</th>\n",
       "      <th>Unnamed: 9</th>\n",
       "      <th>Unnamed: 10</th>\n",
       "    </tr>\n",
       "  </thead>\n",
       "  <tbody>\n",
       "    <tr>\n",
       "      <th>0</th>\n",
       "      <td>2010 (83rd)</td>\n",
       "      <td>Actor -- Leading Role</td>\n",
       "      <td>Javier Bardem</td>\n",
       "      <td>Biutiful {'Uxbal'}</td>\n",
       "      <td>NO</td>\n",
       "      <td>NaN</td>\n",
       "      <td>NaN</td>\n",
       "      <td>NaN</td>\n",
       "      <td>NaN</td>\n",
       "      <td>NaN</td>\n",
       "      <td>NaN</td>\n",
       "    </tr>\n",
       "    <tr>\n",
       "      <th>1</th>\n",
       "      <td>2010 (83rd)</td>\n",
       "      <td>Actor -- Leading Role</td>\n",
       "      <td>Jeff Bridges</td>\n",
       "      <td>True Grit {'Rooster Cogburn'}</td>\n",
       "      <td>NO</td>\n",
       "      <td>NaN</td>\n",
       "      <td>NaN</td>\n",
       "      <td>NaN</td>\n",
       "      <td>NaN</td>\n",
       "      <td>NaN</td>\n",
       "      <td>NaN</td>\n",
       "    </tr>\n",
       "    <tr>\n",
       "      <th>2</th>\n",
       "      <td>2010 (83rd)</td>\n",
       "      <td>Actor -- Leading Role</td>\n",
       "      <td>Jesse Eisenberg</td>\n",
       "      <td>The Social Network {'Mark Zuckerberg'}</td>\n",
       "      <td>NO</td>\n",
       "      <td>NaN</td>\n",
       "      <td>NaN</td>\n",
       "      <td>NaN</td>\n",
       "      <td>NaN</td>\n",
       "      <td>NaN</td>\n",
       "      <td>NaN</td>\n",
       "    </tr>\n",
       "  </tbody>\n",
       "</table>\n",
       "</div>"
      ],
      "text/plain": [
       "          Year               Category          Nominee  \\\n",
       "0  2010 (83rd)  Actor -- Leading Role    Javier Bardem   \n",
       "1  2010 (83rd)  Actor -- Leading Role     Jeff Bridges   \n",
       "2  2010 (83rd)  Actor -- Leading Role  Jesse Eisenberg   \n",
       "\n",
       "                          Additional Info Won? Unnamed: 5 Unnamed: 6  \\\n",
       "0                      Biutiful {'Uxbal'}   NO        NaN        NaN   \n",
       "1           True Grit {'Rooster Cogburn'}   NO        NaN        NaN   \n",
       "2  The Social Network {'Mark Zuckerberg'}   NO        NaN        NaN   \n",
       "\n",
       "  Unnamed: 7 Unnamed: 8 Unnamed: 9 Unnamed: 10  \n",
       "0        NaN        NaN        NaN         NaN  \n",
       "1        NaN        NaN        NaN         NaN  \n",
       "2        NaN        NaN        NaN         NaN  "
      ]
     },
     "execution_count": 66,
     "metadata": {},
     "output_type": "execute_result"
    }
   ],
   "source": [
    "df.head(3)"
   ]
  },
  {
   "cell_type": "code",
   "execution_count": 67,
   "metadata": {
    "collapsed": false
   },
   "outputs": [
    {
     "data": {
      "text/plain": [
       "*                                                                   9\n",
       " flexibility and water resistance                                   1\n",
       " direct radiator bass style cinema loudspeaker systems. [Sound]\"    1\n",
       " sympathetic                                                        1\n",
       "Name: Unnamed: 6, dtype: int64"
      ]
     },
     "execution_count": 67,
     "metadata": {},
     "output_type": "execute_result"
    }
   ],
   "source": [
    "df['Unnamed: 6'].value_counts()"
   ]
  },
  {
   "cell_type": "code",
   "execution_count": 68,
   "metadata": {
    "collapsed": false
   },
   "outputs": [
    {
     "data": {
      "text/plain": [
       "Metro-Goldwyn-Mayer                                                                           60\n",
       "Walt Disney, Producer                                                                         57\n",
       "Warner Bros.                                                                                  42\n",
       "John Williams                                                                                 37\n",
       "France                                                                                        35\n",
       "Alfred Newman                                                                                 34\n",
       "Italy                                                                                         26\n",
       "Paramount                                                                                     24\n",
       "Gordon Hollingshead, Producer                                                                 22\n",
       "Edith Head                                                                                    22\n",
       "20th Century-Fox                                                                              20\n",
       "RKO Radio                                                                                     20\n",
       "Victor Young                                                                                  19\n",
       "Spain                                                                                         19\n",
       "Leon Shamroy                                                                                  17\n",
       "Woody Allen                                                                                   16\n",
       "Max Steiner                                                                                   16\n",
       "Jerry Goldsmith                                                                               16\n",
       "Metro-Goldwyn-Mayer Studio Sound Department, Douglas Shearer, Sound Director                  15\n",
       "Miklos Rozsa                                                                                  14\n",
       "Sweden                                                                                        14\n",
       "Alex North                                                                                    14\n",
       "Dimitri Tiomkin                                                                               13\n",
       "Columbia                                                                                      13\n",
       "Pete Smith, Producer                                                                          13\n",
       "Columbia Studio Sound Department, John Livadary, Sound Director                               13\n",
       "William Wyler                                                                                 12\n",
       "Jean Louis                                                                                    12\n",
       "Franz Waxman                                                                                  12\n",
       "Music and Lyric by Randy Newman                                                               12\n",
       "                                                                                              ..\n",
       "Bill Kong, Hsu Li Kong and Ang Lee, Producers                                                  1\n",
       "A Woman under the Influence {'Mabel Longhetti'}                                                1\n",
       "Holiday {'Linda Seton'}                                                                        1\n",
       "Leon Shamroy, Ray Rennahan                                                                     1\n",
       "Ralf D. Bode                                                                                   1\n",
       "Hans Dreier                                                                                    1\n",
       "Cape Fear {'Danielle Bowden'}                                                                  1\n",
       "Art Direction: Cedric Gibbons, Randall Duell; Set Decoration: Edwin B. Willis, Henry Grace     1\n",
       "Allan Burns                                                                                    1\n",
       "George J. Folsey                                                                               1\n",
       "A Tree Grows in Brooklyn {'Johnny Nolan'}                                                      1\n",
       "Kramer vs. Kramer {'Margaret Phelps'}                                                          1\n",
       "Philippe Sarde                                                                                 1\n",
       "Jessica Yu                                                                                     1\n",
       "Mario Puzo, Francis Ford Coppola                                                               1\n",
       "Michael Mann and Graham King, Producers                                                        1\n",
       "Richard Edlund, John Bruno, Garry Waller, William Neil                                         1\n",
       "Cold Mountain {'Inman'}                                                                        1\n",
       "Ren Klyce, Richard Hymns                                                                       1\n",
       "Absence of Malice {'Teresa'}                                                                   1\n",
       "Capote {'Nelle Harper Lee'}                                                                    1\n",
       "Moulin Rouge {'Satine'}                                                                        1\n",
       "Phil Alden Robinson                                                                            1\n",
       "Photographic Effects by John Fulton; Sound Effects by Arthur W. Johns                          1\n",
       "Mary Zophres                                                                                   1\n",
       "A Few Good Men {'Col. Nathan R. Jessep'}                                                       1\n",
       "Marco Beltrami and Buck Sanders                                                                1\n",
       "Jeanne Jordan, Steven Ascher                                                                   1\n",
       "Carl Foreman, Producer                                                                         1\n",
       "Simon Schiffrin, Producer                                                                      1\n",
       "Name: Additional Info, dtype: int64"
      ]
     },
     "execution_count": 68,
     "metadata": {},
     "output_type": "execute_result"
    }
   ],
   "source": [
    "df['Additional Info'].value_counts()"
   ]
  },
  {
   "cell_type": "markdown",
   "metadata": {},
   "source": [
    "### Filter Category"
   ]
  },
  {
   "cell_type": "markdown",
   "metadata": {},
   "source": [
    "#### Clean up the Year"
   ]
  },
  {
   "cell_type": "code",
   "execution_count": 69,
   "metadata": {
    "collapsed": false
   },
   "outputs": [],
   "source": [
    "df['Year'] = df['Year'].str[0:4]"
   ]
  },
  {
   "cell_type": "code",
   "execution_count": 70,
   "metadata": {
    "collapsed": false
   },
   "outputs": [],
   "source": [
    "df['Year'] = df['Year'].astype('int64')"
   ]
  },
  {
   "cell_type": "code",
   "execution_count": 71,
   "metadata": {
    "collapsed": false
   },
   "outputs": [],
   "source": [
    "later_than_2000 = df[df['Year']>2000]"
   ]
  },
  {
   "cell_type": "code",
   "execution_count": 72,
   "metadata": {
    "collapsed": true
   },
   "outputs": [],
   "source": [
    "award_categories=['Actor -- Leading Role', 'Actor -- Supporting Role', 'Actress -- Leading Role','Actress -- Supporting Role']"
   ]
  },
  {
   "cell_type": "code",
   "execution_count": 73,
   "metadata": {
    "collapsed": false
   },
   "outputs": [],
   "source": [
    "nominations = later_than_2000[later_than_2000[\"Category\"].isin(award_categories)]"
   ]
  },
  {
   "cell_type": "code",
   "execution_count": 74,
   "metadata": {
    "collapsed": false
   },
   "outputs": [],
   "source": [
    "final_nominations = nominations.copy()"
   ]
  },
  {
   "cell_type": "markdown",
   "metadata": {},
   "source": [
    "#### Create new boolean field 'Won' (0/1 values)"
   ]
  },
  {
   "cell_type": "code",
   "execution_count": 75,
   "metadata": {
    "collapsed": false
   },
   "outputs": [],
   "source": [
    "replace_dict = { 'YES': 1, 'NO': 0 }\n",
    "final_nominations['Won']= final_nominations['Won?'].map(replace_dict)"
   ]
  },
  {
   "cell_type": "code",
   "execution_count": 76,
   "metadata": {
    "collapsed": false
   },
   "outputs": [],
   "source": [
    "final_nominations.drop('Won?',axis=1,inplace=True)\n",
    "final_nominations.drop('Unnamed: 5',axis=1,inplace=True)\n",
    "final_nominations.drop('Unnamed: 6',axis=1,inplace=True)\n",
    "final_nominations.drop('Unnamed: 7',axis=1,inplace=True)\n",
    "final_nominations.drop('Unnamed: 8',axis=1,inplace=True)\n",
    "final_nominations.drop('Unnamed: 9',axis=1,inplace=True)\n",
    "final_nominations.drop('Unnamed: 10',axis=1,inplace=True)"
   ]
  },
  {
   "cell_type": "markdown",
   "metadata": {},
   "source": [
    "#### Cleaning Up The Additional Info Column"
   ]
  },
  {
   "cell_type": "code",
   "execution_count": 77,
   "metadata": {
    "collapsed": false
   },
   "outputs": [],
   "source": [
    "additional_info_one = final_nominations['Additional Info'].str.rstrip(\"'}\")\n",
    "additional_info_two = additional_info_one.str.split(\" {'\")\n",
    "movie_names = additional_info_two.str[0]\n",
    "characters = additional_info_two.str[1]"
   ]
  },
  {
   "cell_type": "code",
   "execution_count": 78,
   "metadata": {
    "collapsed": true
   },
   "outputs": [],
   "source": [
    "final_nominations['Movie'] = movie_names"
   ]
  },
  {
   "cell_type": "code",
   "execution_count": 79,
   "metadata": {
    "collapsed": true
   },
   "outputs": [],
   "source": [
    "final_nominations['Character'] = characters"
   ]
  },
  {
   "cell_type": "code",
   "execution_count": 80,
   "metadata": {
    "collapsed": false
   },
   "outputs": [],
   "source": [
    "final_nominations.drop('Additional Info',axis=1,inplace=True)"
   ]
  },
  {
   "cell_type": "markdown",
   "metadata": {},
   "source": [
    "### Write to SQLite db "
   ]
  },
  {
   "cell_type": "code",
   "execution_count": 81,
   "metadata": {
    "collapsed": true
   },
   "outputs": [],
   "source": [
    "import sqlite3\n",
    "conn = sqlite3.connect('nominations.db')"
   ]
  },
  {
   "cell_type": "code",
   "execution_count": 82,
   "metadata": {
    "collapsed": false
   },
   "outputs": [],
   "source": [
    "final_nominations.to_sql(\"nominations\", conn, if_exists='replace', index=False, index_label=None, chunksize=None, dtype=None)"
   ]
  },
  {
   "cell_type": "code",
   "execution_count": 84,
   "metadata": {
    "collapsed": false
   },
   "outputs": [
    {
     "data": {
      "text/plain": [
       "[(0, 'Year', 'INTEGER', 0, None, 0),\n",
       " (1, 'Category', 'TEXT', 0, None, 0),\n",
       " (2, 'Nominee', 'TEXT', 0, None, 0),\n",
       " (3, 'Won', 'INTEGER', 0, None, 0),\n",
       " (4, 'Movie', 'TEXT', 0, None, 0),\n",
       " (5, 'Character', 'TEXT', 0, None, 0)]"
      ]
     },
     "execution_count": 84,
     "metadata": {},
     "output_type": "execute_result"
    }
   ],
   "source": [
    "conn.execute('pragma table_info(nominations);').fetchall()"
   ]
  }
 ],
 "metadata": {
  "kernelspec": {
   "display_name": "Python 3",
   "language": "python",
   "name": "python3"
  },
  "language_info": {
   "codemirror_mode": {
    "name": "ipython",
    "version": 3
   },
   "file_extension": ".py",
   "mimetype": "text/x-python",
   "name": "python",
   "nbconvert_exporter": "python",
   "pygments_lexer": "ipython3",
   "version": "3.4.3"
  }
 },
 "nbformat": 4,
 "nbformat_minor": 0
}
