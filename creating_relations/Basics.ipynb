{
 "cells": [
  {
   "cell_type": "code",
   "execution_count": 3,
   "metadata": {
    "collapsed": true
   },
   "outputs": [],
   "source": [
    "import sqlite3\n",
    "conn = sqlite3.connect('nominations.db')"
   ]
  },
  {
   "cell_type": "code",
   "execution_count": 4,
   "metadata": {
    "collapsed": false
   },
   "outputs": [],
   "source": [
    "schema=conn.execute('pragma table_info(nominations);').fetchall()"
   ]
  },
  {
   "cell_type": "code",
   "execution_count": 5,
   "metadata": {
    "collapsed": true
   },
   "outputs": [],
   "source": [
    "first_ten=conn.execute('select * from nominations limit 10;').fetchall()"
   ]
  },
  {
   "cell_type": "code",
   "execution_count": 6,
   "metadata": {
    "collapsed": false
   },
   "outputs": [
    {
     "name": "stdout",
     "output_type": "stream",
     "text": [
      "(1, 'Actor -- Leading Role', 'Javier Bardem', 'Biutiful', 'Uxbal', '0', 1)\n",
      "(2, 'Actor -- Leading Role', 'Jeff Bridges', 'True Grit', 'Rooster Cogburn', '0', 1)\n",
      "(3, 'Actor -- Leading Role', 'Jesse Eisenberg', 'The Social Network', 'Mark Zuckerberg', '0', 1)\n",
      "(4, 'Actor -- Leading Role', 'Colin Firth', \"The King's Speech\", 'King George VI', '1', 1)\n",
      "(5, 'Actor -- Leading Role', 'James Franco', '127 Hours', 'Aron Ralston', '0', 1)\n",
      "(6, 'Actor -- Supporting Role', 'Christian Bale', 'The Fighter', 'Dicky Eklund', '1', 1)\n",
      "(7, 'Actor -- Supporting Role', 'John Hawkes', \"Winter's Bone\", 'Teardrop', '0', 1)\n",
      "(8, 'Actor -- Supporting Role', 'Jeremy Renner', 'The Town', 'James Coughlin', '0', 1)\n",
      "(9, 'Actor -- Supporting Role', 'Mark Ruffalo', 'The Kids Are All Right', 'Paul', '0', 1)\n",
      "(10, 'Actor -- Supporting Role', 'Geoffrey Rush', \"The King's Speech\", 'Lionel Logue', '0', 1)\n"
     ]
    }
   ],
   "source": [
    "for elem in first_ten:\n",
    "    print(elem)"
   ]
  },
  {
   "cell_type": "code",
   "execution_count": 7,
   "metadata": {
    "collapsed": false
   },
   "outputs": [
    {
     "ename": "OperationalError",
     "evalue": "table ceremonies already exists",
     "output_type": "error",
     "traceback": [
      "\u001b[1;31m\u001b[0m",
      "\u001b[1;31mOperationalError\u001b[0mTraceback (most recent call last)",
      "\u001b[1;32m<ipython-input-7-a645652adefc>\u001b[0m in \u001b[0;36m<module>\u001b[1;34m()\u001b[0m\n\u001b[0;32m      1\u001b[0m \u001b[0msql\u001b[0m \u001b[1;33m=\u001b[0m \u001b[1;34m'create table ceremonies (id integer primary key, Year integer, Host text)'\u001b[0m\u001b[1;33m\u001b[0m\u001b[0m\n\u001b[1;32m----> 2\u001b[1;33m \u001b[0mconn\u001b[0m\u001b[1;33m.\u001b[0m\u001b[0mexecute\u001b[0m\u001b[1;33m(\u001b[0m\u001b[0msql\u001b[0m\u001b[1;33m)\u001b[0m\u001b[1;33m.\u001b[0m\u001b[0mfetchall\u001b[0m\u001b[1;33m(\u001b[0m\u001b[1;33m)\u001b[0m\u001b[1;33m\u001b[0m\u001b[0m\n\u001b[0m",
      "\u001b[1;31mOperationalError\u001b[0m: table ceremonies already exists"
     ]
    }
   ],
   "source": [
    "sql = 'create table ceremonies (id integer primary key, Year integer, Host text)'\n",
    "conn.execute(sql).fetchall()"
   ]
  },
  {
   "cell_type": "code",
   "execution_count": null,
   "metadata": {
    "collapsed": false
   },
   "outputs": [],
   "source": [
    "conn.execute('pragma table_info(ceremonies);').fetchall()"
   ]
  },
  {
   "cell_type": "code",
   "execution_count": null,
   "metadata": {
    "collapsed": true
   },
   "outputs": [],
   "source": [
    "years_hosts = [(2010, \"Steve Martin\"),\n",
    "               (2009, \"Hugh Jackman\"),\n",
    "               (2008, \"Jon Stewart\"),\n",
    "               (2007, \"Ellen DeGeneres\"),\n",
    "               (2006, \"Jon Stewart\"),\n",
    "               (2005, \"Chris Rock\"),\n",
    "               (2004, \"Billy Crystal\"),\n",
    "               (2003, \"Steve Martin\"),\n",
    "               (2002, \"Whoopi Goldberg\"),\n",
    "               (2001, \"Steve Martin\"),\n",
    "               (2000, \"Billy Crystal\"),\n",
    "            ]\n",
    "insert_query = \"INSERT INTO ceremonies (Year, Host) VALUES (?,?);\""
   ]
  },
  {
   "cell_type": "code",
   "execution_count": null,
   "metadata": {
    "collapsed": false
   },
   "outputs": [],
   "source": [
    "conn.executemany(insert_query, years_hosts)"
   ]
  },
  {
   "cell_type": "code",
   "execution_count": null,
   "metadata": {
    "collapsed": false
   },
   "outputs": [],
   "source": [
    "#sql = 'delete from ceremonies'\n",
    "#conn.execute(sql).fetchall()\n",
    "sql = 'select * from ceremonies'\n",
    "conn.execute(sql).fetchall()"
   ]
  },
  {
   "cell_type": "markdown",
   "metadata": {},
   "source": [
    "#### Foreign Key Constraints"
   ]
  },
  {
   "cell_type": "code",
   "execution_count": null,
   "metadata": {
    "collapsed": false
   },
   "outputs": [],
   "source": [
    "sql = 'PRAGMA foreign_keys = ON'\n",
    "conn.execute(sql).fetchall()"
   ]
  },
  {
   "cell_type": "markdown",
   "metadata": {},
   "source": [
    "#### Setting OneToMany relation"
   ]
  },
  {
   "cell_type": "code",
   "execution_count": null,
   "metadata": {
    "collapsed": false
   },
   "outputs": [],
   "source": [
    "sql = 'create table nominations_two(id integer primary key, category text, nominee text, movie text, character text, won text, ceremony_id, FOREIGN KEY(ceremony_id) REFERENCES ceremonies(id))'\n",
    "conn.execute(sql).fetchall()"
   ]
  },
  {
   "cell_type": "code",
   "execution_count": null,
   "metadata": {
    "collapsed": false
   },
   "outputs": [],
   "source": [
    "conn.execute('pragma table_info(nominations_two);').fetchall()"
   ]
  },
  {
   "cell_type": "code",
   "execution_count": null,
   "metadata": {
    "collapsed": false
   },
   "outputs": [],
   "source": [
    "sql='SELECT nominations.category, nominations.nominee, nominations.movie, nominations.character, nominations.won, ceremonies.id FROM nominations INNER JOIN ceremonies ON nominations.year == ceremonies.year;'\n",
    "joined_nominations = conn.execute(sql).fetchall()"
   ]
  },
  {
   "cell_type": "markdown",
   "metadata": {},
   "source": [
    "##### insert into new table with foreign keys"
   ]
  },
  {
   "cell_type": "code",
   "execution_count": null,
   "metadata": {
    "collapsed": false
   },
   "outputs": [],
   "source": [
    "insert_query2 = \"INSERT INTO nominations_two (category, nominee, movie, character, won, ceremony_id) VALUES (?,?,?,?,?,?);\"\n",
    "conn.executemany(insert_query2, joined_nominations)"
   ]
  },
  {
   "cell_type": "code",
   "execution_count": 8,
   "metadata": {
    "collapsed": false
   },
   "outputs": [
    {
     "ename": "OperationalError",
     "evalue": "no such table: nominations_two",
     "output_type": "error",
     "traceback": [
      "\u001b[1;31m\u001b[0m",
      "\u001b[1;31mOperationalError\u001b[0mTraceback (most recent call last)",
      "\u001b[1;32m<ipython-input-8-f7890ff9e67b>\u001b[0m in \u001b[0;36m<module>\u001b[1;34m()\u001b[0m\n\u001b[0;32m      1\u001b[0m \u001b[0msql\u001b[0m \u001b[1;33m=\u001b[0m \u001b[1;34m'select * from nominations_two limit 5'\u001b[0m\u001b[1;33m\u001b[0m\u001b[0m\n\u001b[1;32m----> 2\u001b[1;33m \u001b[0mconn\u001b[0m\u001b[1;33m.\u001b[0m\u001b[0mexecute\u001b[0m\u001b[1;33m(\u001b[0m\u001b[0msql\u001b[0m\u001b[1;33m)\u001b[0m\u001b[1;33m.\u001b[0m\u001b[0mfetchall\u001b[0m\u001b[1;33m(\u001b[0m\u001b[1;33m)\u001b[0m\u001b[1;33m\u001b[0m\u001b[0m\n\u001b[0m",
      "\u001b[1;31mOperationalError\u001b[0m: no such table: nominations_two"
     ]
    }
   ],
   "source": [
    "sql = 'select * from nominations_two limit 5'\n",
    "conn.execute(sql).fetchall()"
   ]
  },
  {
   "cell_type": "markdown",
   "metadata": {},
   "source": [
    "#### Deleting And Renaming Tables"
   ]
  },
  {
   "cell_type": "code",
   "execution_count": null,
   "metadata": {
    "collapsed": false
   },
   "outputs": [],
   "source": [
    "sql = 'drop table nominations'\n",
    "conn.execute(sql).fetchall()"
   ]
  },
  {
   "cell_type": "code",
   "execution_count": null,
   "metadata": {
    "collapsed": false
   },
   "outputs": [],
   "source": [
    "sql = 'alter table nominations_two rename to nominations'\n",
    "conn.execute(sql).fetchall()"
   ]
  },
  {
   "cell_type": "markdown",
   "metadata": {},
   "source": [
    "#### Creating A Join Table"
   ]
  },
  {
   "cell_type": "code",
   "execution_count": null,
   "metadata": {
    "collapsed": false
   },
   "outputs": [],
   "source": [
    "sql = 'create table movies(id integer primary key, movie text)'\n",
    "conn.execute(sql).fetchall()\n",
    "sql = 'create table actors(id integer primary key, actor text)'\n",
    "conn.execute(sql).fetchall()"
   ]
  },
  {
   "cell_type": "code",
   "execution_count": null,
   "metadata": {
    "collapsed": false
   },
   "outputs": [],
   "source": [
    "sql = 'create table movies_actors(id integer primary key, movie_id integer, actor_id integer, foreign key(movie_id) references movies(id), foreign key(actor_id) references actors(id))'\n",
    "conn.execute(sql).fetchall()"
   ]
  },
  {
   "cell_type": "markdown",
   "metadata": {},
   "source": [
    "#### Fill up join tables"
   ]
  },
  {
   "cell_type": "code",
   "execution_count": null,
   "metadata": {
    "collapsed": false
   },
   "outputs": [],
   "source": [
    "sql = 'select distinct movie from nominations'\n",
    "movies_list = conn.execute(sql).fetchall()\n",
    "sql = 'select distinct nominee from nominations'\n",
    "actors_list = conn.execute(sql).fetchall()"
   ]
  },
  {
   "cell_type": "code",
   "execution_count": null,
   "metadata": {
    "collapsed": false
   },
   "outputs": [],
   "source": [
    "insert_movies = \"INSERT INTO movies (movie) VALUES (?);\"\n",
    "conn.executemany(insert_movies, movies_list)\n",
    "sql = 'select * from movies'\n",
    "conn.execute(sql).fetchall()"
   ]
  },
  {
   "cell_type": "code",
   "execution_count": null,
   "metadata": {
    "collapsed": false
   },
   "outputs": [],
   "source": [
    "insert_actors = \"INSERT INTO actors (actor) VALUES (?);\"\n",
    "conn.executemany(insert_actors, actors_list)\n",
    "sql = 'select * from actors'\n",
    "conn.execute(sql).fetchall()"
   ]
  },
  {
   "cell_type": "code",
   "execution_count": null,
   "metadata": {
    "collapsed": true
   },
   "outputs": [],
   "source": [
    "sql='SELECT movies.id, actors.id FROM nominations INNER JOIN actors ON actors.actor == nominations.nominee INNER JOIN movies ON movies.movie == nominations.movie'\n",
    "joined_movies_actors = conn.execute(sql).fetchall()"
   ]
  },
  {
   "cell_type": "code",
   "execution_count": null,
   "metadata": {
    "collapsed": false
   },
   "outputs": [],
   "source": [
    "insert_movies_actors = \"INSERT INTO movies_actors (movie_id, actor_id) VALUES (?,?);\"\n",
    "conn.executemany(insert_movies_actors, joined_movies_actors)"
   ]
  },
  {
   "cell_type": "code",
   "execution_count": null,
   "metadata": {
    "collapsed": false
   },
   "outputs": [],
   "source": [
    "sql='SELECT * FROM movies_actors'\n",
    "conn.execute(sql).fetchall()"
   ]
  },
  {
   "cell_type": "markdown",
   "metadata": {},
   "source": [
    "#### Add movie_actor id into nominations table"
   ]
  },
  {
   "cell_type": "code",
   "execution_count": null,
   "metadata": {
    "collapsed": false
   },
   "outputs": [],
   "source": [
    "sql = 'create table nominations_three(id integer primary key, category text, character text, won text, ceremony_id int, movie_actor_id integer, FOREIGN KEY(ceremony_id) REFERENCES ceremonies(id), FOREIGN KEY(movie_actor_id) REFERENCES movie_actors(id))'\n",
    "conn.execute(sql).fetchall()"
   ]
  },
  {
   "cell_type": "code",
   "execution_count": null,
   "metadata": {
    "collapsed": false
   },
   "outputs": [],
   "source": [
    "sql = 'PRAGMA table_info(nominations_three)'\n",
    "conn.execute(sql).fetchall()"
   ]
  },
  {
   "cell_type": "code",
   "execution_count": 10,
   "metadata": {
    "collapsed": false,
    "scrolled": true
   },
   "outputs": [],
   "source": [
    "sql = 'select category, character, won, ceremony_id, movies_actors.id from nominations inner join actors on actors.actor == nominations.nominee inner join movies on movies.movie == nominations.movie inner join movies_actors on movies_actors.movie_id == movies.id and movies_actors.actor_id == actors.id'\n",
    "joined_movies_actors = conn.execute(sql).fetchall()"
   ]
  },
  {
   "cell_type": "code",
   "execution_count": 11,
   "metadata": {
    "collapsed": false
   },
   "outputs": [
    {
     "data": {
      "text/plain": [
       "<sqlite3.Cursor at 0x7f937c05aab0>"
      ]
     },
     "execution_count": 11,
     "metadata": {},
     "output_type": "execute_result"
    }
   ],
   "source": [
    "insert_movies_actors = \"INSERT INTO nominations_three (category, character, won, ceremony_id, movie_actor_id) VALUES (?,?,?,?,?);\"\n",
    "conn.executemany(insert_movies_actors, joined_movies_actors)"
   ]
  },
  {
   "cell_type": "code",
   "execution_count": 16,
   "metadata": {
    "collapsed": false
   },
   "outputs": [
    {
     "ename": "OperationalError",
     "evalue": "no such table: nominations",
     "output_type": "error",
     "traceback": [
      "\u001b[1;31m\u001b[0m",
      "\u001b[1;31mOperationalError\u001b[0mTraceback (most recent call last)",
      "\u001b[1;32m<ipython-input-16-04772abbac05>\u001b[0m in \u001b[0;36m<module>\u001b[1;34m()\u001b[0m\n\u001b[0;32m      1\u001b[0m \u001b[0msql\u001b[0m \u001b[1;33m=\u001b[0m \u001b[1;34m'drop table nominations'\u001b[0m\u001b[1;33m\u001b[0m\u001b[0m\n\u001b[1;32m----> 2\u001b[1;33m \u001b[0mconn\u001b[0m\u001b[1;33m.\u001b[0m\u001b[0mexecute\u001b[0m\u001b[1;33m(\u001b[0m\u001b[0msql\u001b[0m\u001b[1;33m)\u001b[0m\u001b[1;33m.\u001b[0m\u001b[0mfetchall\u001b[0m\u001b[1;33m(\u001b[0m\u001b[1;33m)\u001b[0m\u001b[1;33m\u001b[0m\u001b[0m\n\u001b[0m\u001b[0;32m      3\u001b[0m \u001b[0msql\u001b[0m \u001b[1;33m=\u001b[0m \u001b[1;34m'alter table nominations_three rename to nominations'\u001b[0m\u001b[1;33m\u001b[0m\u001b[0m\n\u001b[0;32m      4\u001b[0m \u001b[0mconn\u001b[0m\u001b[1;33m.\u001b[0m\u001b[0mexecute\u001b[0m\u001b[1;33m(\u001b[0m\u001b[0msql\u001b[0m\u001b[1;33m)\u001b[0m\u001b[1;33m.\u001b[0m\u001b[0mfetchall\u001b[0m\u001b[1;33m(\u001b[0m\u001b[1;33m)\u001b[0m\u001b[1;33m\u001b[0m\u001b[0m\n",
      "\u001b[1;31mOperationalError\u001b[0m: no such table: nominations"
     ]
    }
   ],
   "source": [
    "sql = 'drop table nominations'\n",
    "conn.execute(sql).fetchall()\n",
    "sql = 'alter table nominations_three rename to nominations'\n",
    "conn.execute(sql).fetchall()"
   ]
  }
 ],
 "metadata": {
  "kernelspec": {
   "display_name": "Python 3",
   "language": "python",
   "name": "python3"
  },
  "language_info": {
   "codemirror_mode": {
    "name": "ipython",
    "version": 3
   },
   "file_extension": ".py",
   "mimetype": "text/x-python",
   "name": "python",
   "nbconvert_exporter": "python",
   "pygments_lexer": "ipython3",
   "version": "3.4.3"
  }
 },
 "nbformat": 4,
 "nbformat_minor": 0
}
