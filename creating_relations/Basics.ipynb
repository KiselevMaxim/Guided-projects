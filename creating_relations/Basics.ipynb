{
 "cells": [
  {
   "cell_type": "code",
   "execution_count": 3,
   "metadata": {
    "collapsed": true
   },
   "outputs": [],
   "source": [
    "import sqlite3\n",
    "conn = sqlite3.connect('nominations.db')"
   ]
  },
  {
   "cell_type": "code",
   "execution_count": 4,
   "metadata": {
    "collapsed": false
   },
   "outputs": [],
   "source": [
    "schema=conn.execute('pragma table_info(nominations);').fetchall()"
   ]
  },
  {
   "cell_type": "code",
   "execution_count": 5,
   "metadata": {
    "collapsed": true
   },
   "outputs": [],
   "source": [
    "first_ten=conn.execute('select * from nominations limit 10;').fetchall()"
   ]
  },
  {
   "cell_type": "code",
   "execution_count": 6,
   "metadata": {
    "collapsed": false
   },
   "outputs": [
    {
     "name": "stdout",
     "output_type": "stream",
     "text": [
      "(1, 'Actor -- Leading Role', 'Javier Bardem', 'Biutiful', 'Uxbal', '0', 1)\n",
      "(2, 'Actor -- Leading Role', 'Jeff Bridges', 'True Grit', 'Rooster Cogburn', '0', 1)\n",
      "(3, 'Actor -- Leading Role', 'Jesse Eisenberg', 'The Social Network', 'Mark Zuckerberg', '0', 1)\n",
      "(4, 'Actor -- Leading Role', 'Colin Firth', \"The King's Speech\", 'King George VI', '1', 1)\n",
      "(5, 'Actor -- Leading Role', 'James Franco', '127 Hours', 'Aron Ralston', '0', 1)\n",
      "(6, 'Actor -- Supporting Role', 'Christian Bale', 'The Fighter', 'Dicky Eklund', '1', 1)\n",
      "(7, 'Actor -- Supporting Role', 'John Hawkes', \"Winter's Bone\", 'Teardrop', '0', 1)\n",
      "(8, 'Actor -- Supporting Role', 'Jeremy Renner', 'The Town', 'James Coughlin', '0', 1)\n",
      "(9, 'Actor -- Supporting Role', 'Mark Ruffalo', 'The Kids Are All Right', 'Paul', '0', 1)\n",
      "(10, 'Actor -- Supporting Role', 'Geoffrey Rush', \"The King's Speech\", 'Lionel Logue', '0', 1)\n"
     ]
    }
   ],
   "source": [
    "for elem in first_ten:\n",
    "    print(elem)"
   ]
  },
  {
   "cell_type": "code",
   "execution_count": 7,
   "metadata": {
    "collapsed": false
   },
   "outputs": [
    {
     "ename": "OperationalError",
     "evalue": "table ceremonies already exists",
     "output_type": "error",
     "traceback": [
      "\u001b[1;31m\u001b[0m",
      "\u001b[1;31mOperationalError\u001b[0mTraceback (most recent call last)",
      "\u001b[1;32m<ipython-input-7-a645652adefc>\u001b[0m in \u001b[0;36m<module>\u001b[1;34m()\u001b[0m\n\u001b[0;32m      1\u001b[0m \u001b[0msql\u001b[0m \u001b[1;33m=\u001b[0m \u001b[1;34m'create table ceremonies (id integer primary key, Year integer, Host text)'\u001b[0m\u001b[1;33m\u001b[0m\u001b[0m\n\u001b[1;32m----> 2\u001b[1;33m \u001b[0mconn\u001b[0m\u001b[1;33m.\u001b[0m\u001b[0mexecute\u001b[0m\u001b[1;33m(\u001b[0m\u001b[0msql\u001b[0m\u001b[1;33m)\u001b[0m\u001b[1;33m.\u001b[0m\u001b[0mfetchall\u001b[0m\u001b[1;33m(\u001b[0m\u001b[1;33m)\u001b[0m\u001b[1;33m\u001b[0m\u001b[0m\n\u001b[0m",
      "\u001b[1;31mOperationalError\u001b[0m: table ceremonies already exists"
     ]
    }
   ],
   "source": [
    "sql = 'create table ceremonies (id integer primary key, Year integer, Host text)'\n",
    "conn.execute(sql).fetchall()"
   ]
  },
  {
   "cell_type": "code",
   "execution_count": null,
   "metadata": {
    "collapsed": false
   },
   "outputs": [],
   "source": [
    "conn.execute('pragma table_info(ceremonies);').fetchall()"
   ]
  },
  {
   "cell_type": "code",
   "execution_count": null,
   "metadata": {
    "collapsed": true
   },
   "outputs": [],
   "source": [
    "years_hosts = [(2010, \"Steve Martin\"),\n",
    "               (2009, \"Hugh Jackman\"),\n",
    "               (2008, \"Jon Stewart\"),\n",
    "               (2007, \"Ellen DeGeneres\"),\n",
    "               (2006, \"Jon Stewart\"),\n",
    "               (2005, \"Chris Rock\"),\n",
    "               (2004, \"Billy Crystal\"),\n",
    "               (2003, \"Steve Martin\"),\n",
    "               (2002, \"Whoopi Goldberg\"),\n",
    "               (2001, \"Steve Martin\"),\n",
    "               (2000, \"Billy Crystal\"),\n",
    "            ]\n",
    "insert_query = \"INSERT INTO ceremonies (Year, Host) VALUES (?,?);\""
   ]
  },
  {
   "cell_type": "code",
   "execution_count": null,
   "metadata": {
    "collapsed": false
   },
   "outputs": [],
   "source": [
    "conn.executemany(insert_query, years_hosts)"
   ]
  },
  {
   "cell_type": "code",
   "execution_count": null,
   "metadata": {
    "collapsed": false
   },
   "outputs": [],
   "source": [
    "#sql = 'delete from ceremonies'\n",
    "#conn.execute(sql).fetchall()\n",
    "sql = 'select * from ceremonies'\n",
    "conn.execute(sql).fetchall()"
   ]
  },
  {
   "cell_type": "markdown",
   "metadata": {},
   "source": [
    "#### Foreign Key Constraints"
   ]
  },
  {
   "cell_type": "code",
   "execution_count": null,
   "metadata": {
    "collapsed": false
   },
   "outputs": [],
   "source": [
    "sql = 'PRAGMA foreign_keys = ON'\n",
    "conn.execute(sql).fetchall()"
   ]
  },
  {
   "cell_type": "markdown",
   "metadata": {},
   "source": [
    "#### Setting OneToMany relation"
   ]
  },
  {
   "cell_type": "code",
   "execution_count": null,
   "metadata": {
    "collapsed": false
   },
   "outputs": [],
   "source": [
    "sql = 'create table nominations_two(id integer primary key, category text, nominee text, movie text, character text, won text, ceremony_id, FOREIGN KEY(ceremony_id) REFERENCES ceremonies(id))'\n",
    "conn.execute(sql).fetchall()"
   ]
  },
  {
   "cell_type": "code",
   "execution_count": null,
   "metadata": {
    "collapsed": false
   },
   "outputs": [],
   "source": [
    "conn.execute('pragma table_info(nominations_two);').fetchall()"
   ]
  },
  {
   "cell_type": "code",
   "execution_count": null,
   "metadata": {
    "collapsed": false
   },
   "outputs": [],
   "source": [
    "sql='SELECT nominations.category, nominations.nominee, nominations.movie, nominations.character, nominations.won, ceremonies.id FROM nominations INNER JOIN ceremonies ON nominations.year == ceremonies.year;'\n",
    "joined_nominations = conn.execute(sql).fetchall()"
   ]
  },
  {
   "cell_type": "markdown",
   "metadata": {},
   "source": [
    "##### insert into new table with foreign keys"
   ]
  },
  {
   "cell_type": "code",
   "execution_count": null,
   "metadata": {
    "collapsed": false
   },
   "outputs": [],
   "source": [
    "insert_query2 = \"INSERT INTO nominations_two (category, nominee, movie, character, won, ceremony_id) VALUES (?,?,?,?,?,?);\"\n",
    "conn.executemany(insert_query2, joined_nominations)"
   ]
  },
  {
   "cell_type": "code",
   "execution_count": 8,
   "metadata": {
    "collapsed": false
   },
   "outputs": [
    {
     "ename": "OperationalError",
     "evalue": "no such table: nominations_two",
     "output_type": "error",
     "traceback": [
      "\u001b[1;31m\u001b[0m",
      "\u001b[1;31mOperationalError\u001b[0mTraceback (most recent call last)",
      "\u001b[1;32m<ipython-input-8-f7890ff9e67b>\u001b[0m in \u001b[0;36m<module>\u001b[1;34m()\u001b[0m\n\u001b[0;32m      1\u001b[0m \u001b[0msql\u001b[0m \u001b[1;33m=\u001b[0m \u001b[1;34m'select * from nominations_two limit 5'\u001b[0m\u001b[1;33m\u001b[0m\u001b[0m\n\u001b[1;32m----> 2\u001b[1;33m \u001b[0mconn\u001b[0m\u001b[1;33m.\u001b[0m\u001b[0mexecute\u001b[0m\u001b[1;33m(\u001b[0m\u001b[0msql\u001b[0m\u001b[1;33m)\u001b[0m\u001b[1;33m.\u001b[0m\u001b[0mfetchall\u001b[0m\u001b[1;33m(\u001b[0m\u001b[1;33m)\u001b[0m\u001b[1;33m\u001b[0m\u001b[0m\n\u001b[0m",
      "\u001b[1;31mOperationalError\u001b[0m: no such table: nominations_two"
     ]
    }
   ],
   "source": [
    "sql = 'select * from nominations_two limit 5'\n",
    "conn.execute(sql).fetchall()"
   ]
  },
  {
   "cell_type": "markdown",
   "metadata": {},
   "source": [
    "#### Deleting And Renaming Tables"
   ]
  },
  {
   "cell_type": "code",
   "execution_count": null,
   "metadata": {
    "collapsed": false
   },
   "outputs": [],
   "source": [
    "sql = 'drop table nominations'\n",
    "conn.execute(sql).fetchall()"
   ]
  },
  {
   "cell_type": "code",
   "execution_count": null,
   "metadata": {
    "collapsed": false
   },
   "outputs": [],
   "source": [
    "sql = 'alter table nominations_two rename to nominations'\n",
    "conn.execute(sql).fetchall()"
   ]
  },
  {
   "cell_type": "markdown",
   "metadata": {},
   "source": [
    "#### Creating A Join Table"
   ]
  },
  {
   "cell_type": "code",
   "execution_count": null,
   "metadata": {
    "collapsed": false
   },
   "outputs": [],
   "source": [
    "sql = 'create table movies(id integer primary key, movie text)'\n",
    "conn.execute(sql).fetchall()\n",
    "sql = 'create table actors(id integer primary key, actor text)'\n",
    "conn.execute(sql).fetchall()"
   ]
  },
  {
   "cell_type": "code",
   "execution_count": null,
   "metadata": {
    "collapsed": false
   },
   "outputs": [],
   "source": [
    "sql = 'create table movies_actors(id integer primary key, movie_id integer, actor_id integer, foreign key(movie_id) references movies(id), foreign key(actor_id) references actors(id))'\n",
    "conn.execute(sql).fetchall()"
   ]
  },
  {
   "cell_type": "markdown",
   "metadata": {},
   "source": [
    "#### Fill up join tables"
   ]
  },
  {
   "cell_type": "code",
   "execution_count": null,
   "metadata": {
    "collapsed": false
   },
   "outputs": [],
   "source": [
    "sql = 'select distinct movie from nominations'\n",
    "movies_list = conn.execute(sql).fetchall()\n",
    "sql = 'select distinct nominee from nominations'\n",
    "actors_list = conn.execute(sql).fetchall()"
   ]
  },
  {
   "cell_type": "code",
   "execution_count": null,
   "metadata": {
    "collapsed": false
   },
   "outputs": [],
   "source": [
    "insert_movies = \"INSERT INTO movies (movie) VALUES (?);\"\n",
    "conn.executemany(insert_movies, movies_list)\n",
    "sql = 'select * from movies'\n",
    "conn.execute(sql).fetchall()"
   ]
  },
  {
   "cell_type": "code",
   "execution_count": null,
   "metadata": {
    "collapsed": false
   },
   "outputs": [],
   "source": [
    "insert_actors = \"INSERT INTO actors (actor) VALUES (?);\"\n",
    "conn.executemany(insert_actors, actors_list)\n",
    "sql = 'select * from actors'\n",
    "conn.execute(sql).fetchall()"
   ]
  },
  {
   "cell_type": "code",
   "execution_count": null,
   "metadata": {
    "collapsed": true
   },
   "outputs": [],
   "source": [
    "sql='SELECT movies.id, actors.id FROM nominations INNER JOIN actors ON actors.actor == nominations.nominee INNER JOIN movies ON movies.movie == nominations.movie'\n",
    "joined_movies_actors = conn.execute(sql).fetchall()"
   ]
  },
  {
   "cell_type": "code",
   "execution_count": null,
   "metadata": {
    "collapsed": false
   },
   "outputs": [],
   "source": [
    "insert_movies_actors = \"INSERT INTO movies_actors (movie_id, actor_id) VALUES (?,?);\"\n",
    "conn.executemany(insert_movies_actors, joined_movies_actors)"
   ]
  },
  {
   "cell_type": "code",
   "execution_count": null,
   "metadata": {
    "collapsed": false
   },
   "outputs": [],
   "source": [
    "sql='SELECT * FROM movies_actors'\n",
    "conn.execute(sql).fetchall()"
   ]
  },
  {
   "cell_type": "markdown",
   "metadata": {},
   "source": [
    "#### Add movie_actor id into nominations table"
   ]
  },
  {
   "cell_type": "code",
   "execution_count": null,
   "metadata": {
    "collapsed": false
   },
   "outputs": [],
   "source": [
    "sql = 'create table nominations_three(id integer primary key, category text, character text, won text, ceremony_id int, movie_actor_id integer, FOREIGN KEY(ceremony_id) REFERENCES ceremonies(id), FOREIGN KEY(movie_actor_id) REFERENCES movie_actors(id))'\n",
    "conn.execute(sql).fetchall()"
   ]
  },
  {
   "cell_type": "code",
   "execution_count": null,
   "metadata": {
    "collapsed": false
   },
   "outputs": [],
   "source": [
    "sql = 'PRAGMA table_info(nominations_three)'\n",
    "conn.execute(sql).fetchall()"
   ]
  },
  {
   "cell_type": "code",
   "execution_count": 10,
   "metadata": {
    "collapsed": false,
    "scrolled": true
   },
   "outputs": [],
   "source": [
    "sql = 'select category, character, won, ceremony_id, movies_actors.id from nominations inner join actors on actors.actor == nominations.nominee inner join movies on movies.movie == nominations.movie inner join movies_actors on movies_actors.movie_id == movies.id and movies_actors.actor_id == actors.id'\n",
    "joined_movies_actors = conn.execute(sql).fetchall()"
   ]
  },
  {
   "cell_type": "code",
   "execution_count": 11,
   "metadata": {
    "collapsed": false
   },
   "outputs": [
    {
     "data": {
      "text/plain": [
       "<sqlite3.Cursor at 0x7f937c05aab0>"
      ]
     },
     "execution_count": 11,
     "metadata": {},
     "output_type": "execute_result"
    }
   ],
   "source": [
    "insert_movies_actors = \"INSERT INTO nominations_three (category, character, won, ceremony_id, movie_actor_id) VALUES (?,?,?,?,?);\"\n",
    "conn.executemany(insert_movies_actors, joined_movies_actors)"
   ]
  },
  {
   "cell_type": "code",
   "execution_count": 14,
   "metadata": {
    "collapsed": false
   },
   "outputs": [
    {
     "data": {
      "text/plain": [
       "[(1, 'Actor -- Leading Role', 'Uxbal', '0', 1, 1),\n",
       " (2, 'Actor -- Leading Role', 'Rooster Cogburn', '0', 1, 2),\n",
       " (3, 'Actor -- Leading Role', 'Mark Zuckerberg', '0', 1, 3),\n",
       " (4, 'Actor -- Leading Role', 'King George VI', '1', 1, 4),\n",
       " (5, 'Actor -- Leading Role', 'Aron Ralston', '0', 1, 5),\n",
       " (6, 'Actor -- Supporting Role', 'Dicky Eklund', '1', 1, 6),\n",
       " (7, 'Actor -- Supporting Role', 'Teardrop', '0', 1, 7),\n",
       " (8, 'Actor -- Supporting Role', 'James Coughlin', '0', 1, 8),\n",
       " (9, 'Actor -- Supporting Role', 'Paul', '0', 1, 9),\n",
       " (10, 'Actor -- Supporting Role', 'Lionel Logue', '0', 1, 10),\n",
       " (11, 'Actress -- Leading Role', 'Nic', '0', 1, 11),\n",
       " (12, 'Actress -- Leading Role', 'Becca', '0', 1, 12),\n",
       " (13, 'Actress -- Leading Role', 'Ree', '0', 1, 13),\n",
       " (14, 'Actress -- Leading Role', 'Nina Sayers/The Swan Queen', '1', 1, 14),\n",
       " (15, 'Actress -- Leading Role', 'Cindy', '0', 1, 15),\n",
       " (16, 'Actress -- Supporting Role', 'Charlene Fleming', '0', 1, 16),\n",
       " (17, 'Actress -- Supporting Role', 'Queen Elizabeth', '0', 1, 17),\n",
       " (18, 'Actress -- Supporting Role', 'Alice Ward', '1', 1, 18),\n",
       " (19, 'Actress -- Supporting Role', 'Mattie Ross', '0', 1, 19),\n",
       " (20, 'Actress -- Supporting Role', \"Janine 'Smurf' Cody\", '0', 1, 20),\n",
       " (21, 'Actor -- Leading Role', 'Bad Blake', '1', 2, 21),\n",
       " (22, 'Actor -- Leading Role', 'Ryan Bingham', '0', 2, 22),\n",
       " (23, 'Actor -- Leading Role', 'George', '0', 2, 23),\n",
       " (24, 'Actor -- Leading Role', 'Nelson Mandela', '0', 2, 24),\n",
       " (25, 'Actor -- Leading Role', 'Staff Sergeant William James', '0', 2, 25),\n",
       " (26, 'Actor -- Supporting Role', 'Francois Pienaar', '0', 2, 26),\n",
       " (27, 'Actor -- Supporting Role', 'Captain Tony Stone', '0', 2, 27),\n",
       " (28, 'Actor -- Supporting Role', 'Tolstoy', '0', 2, 28),\n",
       " (29, 'Actor -- Supporting Role', 'George Harvey', '0', 2, 29),\n",
       " (30, 'Actor -- Supporting Role', 'Col. Hans Landa', '1', 2, 30),\n",
       " (31, 'Actress -- Leading Role', 'Leigh Anne Tuohy', '1', 2, 31),\n",
       " (32, 'Actress -- Leading Role', 'Sofya', '0', 2, 32),\n",
       " (33, 'Actress -- Leading Role', 'Jenny', '0', 2, 33),\n",
       " (34, 'Actress -- Leading Role', 'Precious', '0', 2, 34),\n",
       " (35, 'Actress -- Leading Role', 'Julia Child', '0', 2, 35),\n",
       " (36, 'Actress -- Supporting Role', 'Carla', '0', 2, 36),\n",
       " (37, 'Actress -- Supporting Role', 'Alex Goran', '0', 2, 37),\n",
       " (38, 'Actress -- Supporting Role', 'Jean Craddock', '0', 2, 38),\n",
       " (39, 'Actress -- Supporting Role', 'Natalie Keener', '0', 2, 39),\n",
       " (40, 'Actress -- Supporting Role', 'Mary', '1', 2, 40),\n",
       " (41, 'Actor -- Leading Role', 'Walter', '0', 3, 41),\n",
       " (42, 'Actor -- Leading Role', 'Richard Nixon', '0', 3, 42),\n",
       " (43, 'Actor -- Leading Role', 'Harvey Milk', '1', 3, 43),\n",
       " (44, 'Actor -- Leading Role', 'Benjamin Button', '0', 3, 44),\n",
       " (45, 'Actor -- Leading Role', 'Randy', '0', 3, 45),\n",
       " (46, 'Actor -- Supporting Role', 'Dan White', '0', 3, 46),\n",
       " (47, 'Actor -- Supporting Role', 'Kirk Lazarus', '0', 3, 47),\n",
       " (48, 'Actor -- Supporting Role', 'Father Brendan Flynn', '0', 3, 48),\n",
       " (49, 'Actor -- Supporting Role', 'Joker', '1', 3, 49),\n",
       " (50, 'Actor -- Supporting Role', 'John Givings', '0', 3, 50),\n",
       " (51, 'Actress -- Leading Role', 'Kym', '0', 3, 51),\n",
       " (52, 'Actress -- Leading Role', 'Christine Collins', '0', 3, 52),\n",
       " (53, 'Actress -- Leading Role', 'Ray Eddy', '0', 3, 53),\n",
       " (54, 'Actress -- Leading Role', 'Sister Aloysius Beauvier', '0', 3, 54),\n",
       " (55, 'Actress -- Leading Role', 'Hanna Schmitz', '1', 3, 55),\n",
       " (56, 'Actress -- Supporting Role', 'Sister James', '0', 3, 56),\n",
       " (57, 'Actress -- Supporting Role', 'Maria Elena', '1', 3, 57),\n",
       " (58, 'Actress -- Supporting Role', 'Mrs. Miller', '0', 3, 58),\n",
       " (59, 'Actress -- Supporting Role', 'Queenie', '0', 3, 59),\n",
       " (60, 'Actress -- Supporting Role', 'Cassidy', '0', 3, 60),\n",
       " (61, 'Actor -- Leading Role', 'Michael Clayton', '0', 4, 61),\n",
       " (62, 'Actor -- Leading Role', 'Daniel Plainview', '1', 4, 62),\n",
       " (63, 'Actor -- Leading Role', 'Sweeney Todd', '0', 4, 63),\n",
       " (64, 'Actor -- Leading Role', 'Hank Deerfield', '0', 4, 64),\n",
       " (65, 'Actor -- Leading Role', 'Nikolai', '0', 4, 65),\n",
       " (66, 'Actor -- Supporting Role', 'Robert Ford', '0', 4, 66),\n",
       " (67, 'Actor -- Supporting Role', 'Anton Chigurh', '1', 4, 67),\n",
       " (68, 'Actor -- Supporting Role', 'Gust Avrakotos', '0', 4, 68),\n",
       " (69, 'Actor -- Supporting Role', 'Ron Franz', '0', 4, 69),\n",
       " (70, 'Actor -- Supporting Role', 'Arthur Edens', '0', 4, 70),\n",
       " (71, 'Actress -- Leading Role', 'Queen Elizabeth I', '0', 4, 71),\n",
       " (72, 'Actress -- Leading Role', 'Fiona', '0', 4, 72),\n",
       " (73, 'Actress -- Leading Role', 'Edith Piaf', '1', 4, 73),\n",
       " (74, 'Actress -- Leading Role', 'Wendy Savage', '0', 4, 74),\n",
       " (75, 'Actress -- Leading Role', 'Juno MacGuff', '0', 4, 75),\n",
       " (76, 'Actress -- Supporting Role', 'Jude', '0', 4, 76),\n",
       " (77, 'Actress -- Supporting Role', 'Mama Lucas', '0', 4, 77),\n",
       " (78, 'Actress -- Supporting Role', 'Briony Tallis, aged 13', '0', 4, 78),\n",
       " (79, 'Actress -- Supporting Role', 'Helene McCready', '0', 4, 79),\n",
       " (80, 'Actress -- Supporting Role', 'Karen Crowder', '1', 4, 80),\n",
       " (81, 'Actor -- Leading Role', 'Danny Archer', '0', 5, 81),\n",
       " (82, 'Actor -- Leading Role', 'Dan Dunne', '0', 5, 82),\n",
       " (83, 'Actor -- Leading Role', 'Maurice', '0', 5, 83),\n",
       " (84, 'Actor -- Leading Role', 'Chris Gardner', '0', 5, 84),\n",
       " (85, 'Actor -- Leading Role', 'Idi Amin', '1', 5, 85),\n",
       " (86, 'Actor -- Supporting Role', 'Grandpa', '1', 5, 86),\n",
       " (87, 'Actor -- Supporting Role', 'Ronnie J. McGorvey', '0', 5, 87),\n",
       " (88, 'Actor -- Supporting Role', 'Solomon Vandy', '0', 5, 88),\n",
       " (89, 'Actor -- Supporting Role', \"James 'Thunder' Early\", '0', 5, 89),\n",
       " (90, 'Actor -- Supporting Role', 'Dignam', '0', 5, 90),\n",
       " (91, 'Actress -- Leading Role', 'Raimunda', '0', 5, 91),\n",
       " (92, 'Actress -- Leading Role', 'Barbara Covett', '0', 5, 92),\n",
       " (93, 'Actress -- Leading Role', 'The Queen', '1', 5, 93),\n",
       " (94, 'Actress -- Leading Role', 'Miranda Priestly', '0', 5, 94),\n",
       " (95, 'Actress -- Leading Role', 'Sarah Pierce', '0', 5, 95),\n",
       " (96, 'Actress -- Supporting Role', 'Amelia', '0', 5, 96),\n",
       " (97, 'Actress -- Supporting Role', 'Sheba Hart', '0', 5, 97),\n",
       " (98, 'Actress -- Supporting Role', 'Olive', '0', 5, 98),\n",
       " (99, 'Actress -- Supporting Role', 'Effie White', '1', 5, 99),\n",
       " (100, 'Actress -- Supporting Role', 'Chieko', '0', 5, 100),\n",
       " (101, 'Actor -- Leading Role', 'Truman Capote', '1', 6, 101),\n",
       " (102, 'Actor -- Leading Role', 'DJay', '0', 6, 102),\n",
       " (103, 'Actor -- Leading Role', 'Ennis Del Mar', '0', 6, 103),\n",
       " (104, 'Actor -- Leading Role', 'John R. Cash', '0', 6, 104),\n",
       " (105, 'Actor -- Leading Role', 'Edward R. Murrow', '0', 6, 105),\n",
       " (106, 'Actor -- Supporting Role', 'Bob Barnes', '1', 6, 106),\n",
       " (107, 'Actor -- Supporting Role', 'Officer Ryan', '0', 6, 107),\n",
       " (108, 'Actor -- Supporting Role', 'Joe Gould', '0', 6, 108),\n",
       " (109, 'Actor -- Supporting Role', 'Jack Twist', '0', 6, 109),\n",
       " (110, 'Actor -- Supporting Role', 'Richie Cusack', '0', 6, 110),\n",
       " (111, 'Actress -- Leading Role', 'Mrs. Laura Henderson', '0', 6, 111),\n",
       " (112, 'Actress -- Leading Role', 'Bree', '0', 6, 112),\n",
       " (113, 'Actress -- Leading Role', 'Elizabeth Bennet', '0', 6, 113),\n",
       " (114, 'Actress -- Leading Role', 'Josey Aimes', '0', 6, 114),\n",
       " (115, 'Actress -- Leading Role', 'June Carter', '1', 6, 115),\n",
       " (116, 'Actress -- Supporting Role', 'Ashley', '0', 6, 116),\n",
       " (117, 'Actress -- Supporting Role', 'Nelle Harper Lee', '0', 6, 117),\n",
       " (118, 'Actress -- Supporting Role', 'Glory', '0', 6, 118),\n",
       " (119, 'Actress -- Supporting Role', 'Tessa Quayle', '1', 6, 119),\n",
       " (120, 'Actress -- Supporting Role', 'Alma', '0', 6, 120),\n",
       " (121, 'Actor -- Leading Role', 'Paul Rusesabagina', '0', 7, 121),\n",
       " (122, 'Actor -- Leading Role', 'Sir James Matthew Barrie', '0', 7, 122),\n",
       " (123, 'Actor -- Leading Role', 'Howard Hughes', '0', 7, 123),\n",
       " (124, 'Actor -- Leading Role', 'Frankie Dunn', '0', 7, 124),\n",
       " (125, 'Actor -- Leading Role', 'Ray Charles', '1', 7, 125),\n",
       " (126, 'Actor -- Supporting Role', 'Senator Ralph Owen Brewster', '0', 7, 126),\n",
       " (127, 'Actor -- Supporting Role', 'Jack', '0', 7, 127),\n",
       " (128, 'Actor -- Supporting Role', 'Max', '0', 7, 128),\n",
       " (129, 'Actor -- Supporting Role', 'Eddie Scrap-Iron Dupris', '1', 7, 129),\n",
       " (130, 'Actor -- Supporting Role', 'Larry', '0', 7, 130),\n",
       " (131, 'Actress -- Leading Role', 'Julia Lambert', '0', 7, 131),\n",
       " (132, 'Actress -- Leading Role', 'Maria', '0', 7, 132),\n",
       " (133, 'Actress -- Leading Role', 'Vera', '0', 7, 133),\n",
       " (134, 'Actress -- Leading Role', 'Maggie Fitzgerald', '1', 7, 134),\n",
       " (135, 'Actress -- Leading Role', 'Clementine Kruczynski', '0', 7, 135),\n",
       " (136, 'Actress -- Supporting Role', 'Katharine Hepburn', '1', 7, 136),\n",
       " (137, 'Actress -- Supporting Role', 'Clara McMillen', '0', 7, 137),\n",
       " (138, 'Actress -- Supporting Role', 'Maya', '0', 7, 138),\n",
       " (139, 'Actress -- Supporting Role', 'Tatiana Rusesabagina', '0', 7, 139),\n",
       " (140, 'Actress -- Supporting Role', 'Alice', '0', 7, 140),\n",
       " (141, 'Actor -- Leading Role', 'Jack Sparrow', '0', 8, 141),\n",
       " (142, 'Actor -- Leading Role', 'Behrani', '0', 8, 142),\n",
       " (143, 'Actor -- Leading Role', 'Inman', '0', 8, 143),\n",
       " (144, 'Actor -- Leading Role', 'Bob Harris', '0', 8, 144),\n",
       " (145, 'Actor -- Leading Role', 'Jimmy Markum', '1', 8, 145),\n",
       " (146, 'Actor -- Supporting Role', 'Shelly Kaplow', '0', 8, 146),\n",
       " (147, 'Actor -- Supporting Role', 'Jack Jordan', '0', 8, 147),\n",
       " (148, 'Actor -- Supporting Role', 'Mateo', '0', 8, 148),\n",
       " (149, 'Actor -- Supporting Role', 'Dave Boyle', '1', 8, 149),\n",
       " (150, 'Actor -- Supporting Role', 'Katsumoto', '0', 8, 150),\n",
       " (151, 'Actress -- Leading Role', 'Paikea', '0', 8, 151),\n",
       " (152, 'Actress -- Leading Role', 'Erica Barry', '0', 8, 152),\n",
       " (153, 'Actress -- Leading Role', 'Sarah', '0', 8, 153),\n",
       " (154, 'Actress -- Leading Role', 'Aileen Wuornos', '1', 8, 154),\n",
       " (155, 'Actress -- Leading Role', 'Cristina Peck', '0', 8, 155),\n",
       " (156, 'Actress -- Supporting Role', 'Nadi', '0', 8, 156),\n",
       " (157, 'Actress -- Supporting Role', 'Joy Burns', '0', 8, 157),\n",
       " (158, 'Actress -- Supporting Role', 'Celeste Boyle', '0', 8, 158),\n",
       " (159, 'Actress -- Supporting Role', 'Melanie', '0', 8, 159),\n",
       " (160, 'Actress -- Supporting Role', 'Ruby Thewes', '1', 8, 160),\n",
       " (161, 'Actor -- Leading Role', 'Wladyslaw Szpilman', '1', 9, 161),\n",
       " (162,\n",
       "  'Actor -- Leading Role',\n",
       "  'Charlie Kaufman & Donald Kaufman',\n",
       "  '0',\n",
       "  9,\n",
       "  162),\n",
       " (163, 'Actor -- Leading Role', 'Thomas Fowler', '0', 9, 163),\n",
       " (164, 'Actor -- Leading Role', \"Bill 'The Butcher' Cutting\", '0', 9, 164),\n",
       " (165, 'Actor -- Leading Role', 'Warren Schmidt', '0', 9, 165),\n",
       " (166, 'Actor -- Supporting Role', 'John Laroche', '1', 9, 166),\n",
       " (167, 'Actor -- Supporting Role', 'Richard Brown', '0', 9, 167),\n",
       " (168, 'Actor -- Supporting Role', 'John Rooney', '0', 9, 168),\n",
       " (169, 'Actor -- Supporting Role', 'Amos Hart', '0', 9, 169),\n",
       " (170, 'Actor -- Supporting Role', 'Frank Abagnale', '0', 9, 170),\n",
       " (171, 'Actress -- Leading Role', 'Frida Kahlo', '0', 9, 171),\n",
       " (172, 'Actress -- Leading Role', 'Virginia Woolf', '1', 9, 172),\n",
       " (173, 'Actress -- Leading Role', 'Connie Sumner', '0', 9, 173),\n",
       " (174, 'Actress -- Leading Role', 'Cathy Whitaker', '0', 9, 174),\n",
       " (175, 'Actress -- Leading Role', 'Roxie Hart', '0', 9, 175),\n",
       " (176, 'Actress -- Supporting Role', 'Roberta Hertzel', '0', 9, 176),\n",
       " (177, 'Actress -- Supporting Role', 'Laura Brown', '0', 9, 177),\n",
       " (178, 'Actress -- Supporting Role', 'Matron Mama Morton', '0', 9, 178),\n",
       " (179, 'Actress -- Supporting Role', 'Susan Orlean', '0', 9, 179),\n",
       " (180, 'Actress -- Supporting Role', 'Velma Kelly', '1', 9, 180),\n",
       " (181, 'Actor -- Leading Role', 'John Nash', '0', 10, 181),\n",
       " (182, 'Actor -- Leading Role', 'Sam Dawson', '0', 10, 182),\n",
       " (183, 'Actor -- Leading Role', 'Muhammad Ali', '0', 10, 183),\n",
       " (184, 'Actor -- Leading Role', 'Alonzo', '1', 10, 184),\n",
       " (185, 'Actor -- Leading Role', 'Matt Fowler', '0', 10, 185),\n",
       " (186, 'Actor -- Supporting Role', 'John Bayley', '1', 10, 186),\n",
       " (187, 'Actor -- Supporting Role', 'Jake', '0', 10, 187),\n",
       " (188, 'Actor -- Supporting Role', 'Don Logan', '0', 10, 188),\n",
       " (189, 'Actor -- Supporting Role', 'Gandalf', '0', 10, 189),\n",
       " (190, 'Actor -- Supporting Role', 'Howard Cosell', '0', 10, 190),\n",
       " (191, 'Actress -- Leading Role', 'Leticia Musgrove', '1', 10, 191),\n",
       " (192, 'Actress -- Leading Role', 'Iris Murdoch', '0', 10, 192),\n",
       " (193, 'Actress -- Leading Role', 'Satine', '0', 10, 193),\n",
       " (194, 'Actress -- Leading Role', 'Ruth Fowler', '0', 10, 194),\n",
       " (195, 'Actress -- Leading Role', 'Bridget Jones', '0', 10, 195),\n",
       " (196, 'Actress -- Supporting Role', 'Alicia Nash', '1', 10, 196),\n",
       " (197, 'Actress -- Supporting Role', 'Mrs. Wilson', '0', 10, 197),\n",
       " (198,\n",
       "  'Actress -- Supporting Role',\n",
       "  'Constance, Countess of Trentham',\n",
       "  '0',\n",
       "  10,\n",
       "  198),\n",
       " (199, 'Actress -- Supporting Role', 'Natalie Strout', '0', 10, 199),\n",
       " (200, 'Actress -- Supporting Role', 'Young Iris Murdoch', '0', 10, 200)]"
      ]
     },
     "execution_count": 14,
     "metadata": {},
     "output_type": "execute_result"
    }
   ],
   "source": [
    "sql = 'select * from nominations_three'\n",
    "conn.execute(sql).fetchall()"
   ]
  }
 ],
 "metadata": {
  "kernelspec": {
   "display_name": "Python 3",
   "language": "python",
   "name": "python3"
  },
  "language_info": {
   "codemirror_mode": {
    "name": "ipython",
    "version": 3
   },
   "file_extension": ".py",
   "mimetype": "text/x-python",
   "name": "python",
   "nbconvert_exporter": "python",
   "pygments_lexer": "ipython3",
   "version": "3.4.3"
  }
 },
 "nbformat": 4,
 "nbformat_minor": 0
}
